{
 "cells": [
  {
   "cell_type": "code",
   "execution_count": null,
   "id": "56decc01-7e0a-4793-a2eb-465ea964936d",
   "metadata": {},
   "outputs": [],
   "source": [
    "import math\n",
    "\n",
    "def calculate_layer_heights(model_top, scale_factor, num_layers):\n",
    "    heights = []\n",
    "    for i in range(num_layers):\n",
    "        if i == 0:\n",
    "            layer_height = model_top / (\n",
    "                math.pow(scale_factor, num_layers - 1)\n",
    "                * (scale_factor - 1)\n",
    "                / (scale_factor - 1)\n",
    "            )\n",
    "        else:\n",
    "            layer_height = heights[i - 1] * scale_factor\n",
    "        heights.append(layer_height)\n",
    "    return heights\n",
    "\n",
    "\n",
    "def output_layers(height, model_top, scale_factor, num_layers):\n",
    "    heights = calculate_layer_heights(model_top, scale_factor, num_layers)\n",
    "\n",
    "    for i in range(1, len(heights)):\n",
    "        if heights[i - 1] <= height < heights[i]:\n",
    "            return i\n",
    "\n",
    "    if height < heights[0]:\n",
    "        return 0\n",
    "\n",
    "    return len(heights)"
   ]
  }
 ],
 "metadata": {
  "kernelspec": {
   "display_name": "Python 3 (ipykernel)",
   "language": "python",
   "name": "python3"
  },
  "language_info": {
   "codemirror_mode": {
    "name": "ipython",
    "version": 3
   },
   "file_extension": ".py",
   "mimetype": "text/x-python",
   "name": "python",
   "nbconvert_exporter": "python",
   "pygments_lexer": "ipython3",
   "version": "3.11.7"
  }
 },
 "nbformat": 4,
 "nbformat_minor": 5
}
